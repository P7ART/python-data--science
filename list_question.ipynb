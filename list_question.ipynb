{
 "cells": [
  {
   "cell_type": "code",
   "execution_count": 2,
   "metadata": {},
   "outputs": [
    {
     "name": "stdout",
     "output_type": "stream",
     "text": [
      "1.\n",
      "2.\n",
      "3.\n",
      "4.\n",
      "5.\n",
      "6.\n",
      "7.\n",
      "8.\n",
      "9.\n"
     ]
    }
   ],
   "source": [
    "#Question Print numbers from 1 to 9, each on a seperate line, followed by a dot, output should look like the following\n",
    "for i in range(1,10):\n",
    "    print(i,end = \".\\n\")\n",
    "    "
   ]
  },
  {
   "cell_type": "code",
   "execution_count": 5,
   "metadata": {},
   "outputs": [
    {
     "name": "stdout",
     "output_type": "stream",
     "text": [
      "kya hu bhai kyu ro raha h \n",
      "kya hu bhai kyu ro raha ??\n"
     ]
    }
   ],
   "source": [
    "#Question Ask user to input a string and check if the string ends with '?'\n",
    "wt = str(input(\"enter the strings and \"))\n",
    "print(wt)\n",
    "wy = str(input(\"enter the strings weather it end with ?\"))\n",
    "print(wy)"
   ]
  },
  {
   "cell_type": "code",
   "execution_count": 7,
   "metadata": {},
   "outputs": [
    {
     "name": "stdout",
     "output_type": "stream",
     "text": [
      "False\n",
      "True\n"
     ]
    }
   ],
   "source": [
    "print(wt.endswith(\"?\"))\n",
    "print(wy.endswith(\"?\"))"
   ]
  },
  {
   "cell_type": "code",
   "execution_count": 9,
   "metadata": {},
   "outputs": [
    {
     "name": "stdout",
     "output_type": "stream",
     "text": [
      "the apple is for eating and i am playing with an apple\n"
     ]
    }
   ],
   "source": [
    "#Question Ask user to input a string and print how many times e appeared in the string\n",
    "q = str(input(\"enter the strings by the users to count e \"))\n",
    "print(q)\n"
   ]
  },
  {
   "cell_type": "code",
   "execution_count": 11,
   "metadata": {},
   "outputs": [
    {
     "name": "stdout",
     "output_type": "stream",
     "text": [
      "4\n"
     ]
    }
   ],
   "source": [
    "print(q.count(\"e\"))"
   ]
  },
  {
   "cell_type": "code",
   "execution_count": 13,
   "metadata": {},
   "outputs": [
    {
     "name": "stdout",
     "output_type": "stream",
     "text": [
      "the number is a digit 2\n"
     ]
    }
   ],
   "source": [
    "# Question Check if the user input is a number.\n",
    "tr = input(\"enter the user input:\")\n",
    "if tr.isdigit():\n",
    "    print(\"the number is a digit\",tr)\n",
    "else:\n",
    "    print(\"the enter user input is not digit\",tr)    "
   ]
  },
  {
   "cell_type": "code",
   "execution_count": 15,
   "metadata": {},
   "outputs": [
    {
     "name": "stdout",
     "output_type": "stream",
     "text": [
      "kushagra you are bad boy\n"
     ]
    }
   ],
   "source": [
    "#question remove the extra wide space \n",
    "tr = \" kushagra you are bad boy   \"\n",
    "print(tr.strip())"
   ]
  },
  {
   "cell_type": "code",
   "execution_count": 24,
   "metadata": {},
   "outputs": [
    {
     "ename": "TypeError",
     "evalue": "'str' object is not callable",
     "output_type": "error",
     "traceback": [
      "\u001b[1;31m---------------------------------------------------------------------------\u001b[0m",
      "\u001b[1;31mTypeError\u001b[0m                                 Traceback (most recent call last)",
      "Cell \u001b[1;32mIn[24], line 3\u001b[0m\n\u001b[0;32m      1\u001b[0m \u001b[38;5;66;03m# Question Ask user to input string, print found if any of the character is upper case\u001b[39;00m\n\u001b[0;32m      2\u001b[0m word9 \u001b[38;5;241m=\u001b[39m \u001b[38;5;28minput\u001b[39m(\u001b[38;5;124m\"\u001b[39m\u001b[38;5;124menter the string:\u001b[39m\u001b[38;5;124m\"\u001b[39m)\n\u001b[1;32m----> 3\u001b[0m \u001b[38;5;28;01mfor\u001b[39;00m i \u001b[38;5;129;01min\u001b[39;00m word9():\n\u001b[0;32m      5\u001b[0m   \u001b[38;5;28;01mif\u001b[39;00m i\u001b[38;5;241m.\u001b[39misupper():\n\u001b[0;32m      6\u001b[0m         \u001b[38;5;28mprint\u001b[39m (\u001b[38;5;124m\"\u001b[39m\u001b[38;5;124mFound\u001b[39m\u001b[38;5;124m\"\u001b[39m)\n",
      "\u001b[1;31mTypeError\u001b[0m: 'str' object is not callable"
     ]
    }
   ],
   "source": [
    "# Question Ask user to input string, print found if any of the character is upper case\n",
    "word9 = input(\"enter the string:\")\n",
    "for i in word9():\n",
    "\n",
    "  if i.isupper():\n",
    "        print (\"Found\")\n",
    "  else:\n",
    "        print(\"not found\")    "
   ]
  }
 ],
 "metadata": {
  "kernelspec": {
   "display_name": "base",
   "language": "python",
   "name": "python3"
  },
  "language_info": {
   "codemirror_mode": {
    "name": "ipython",
    "version": 3
   },
   "file_extension": ".py",
   "mimetype": "text/x-python",
   "name": "python",
   "nbconvert_exporter": "python",
   "pygments_lexer": "ipython3",
   "version": "3.11.5"
  }
 },
 "nbformat": 4,
 "nbformat_minor": 2
}
