{
 "cells": [
  {
   "cell_type": "code",
   "execution_count": 2,
   "metadata": {},
   "outputs": [
    {
     "name": "stdout",
     "output_type": "stream",
     "text": [
      "1.\n",
      "2.\n",
      "3.\n",
      "4.\n",
      "5.\n",
      "6.\n",
      "7.\n",
      "8.\n",
      "9.\n"
     ]
    }
   ],
   "source": [
    "#Question Print numbers from 1 to 9, each on a seperate line, followed by a dot, output should look like the following\n",
    "for i in range(1,10):\n",
    "    print(i,end = \".\\n\")\n",
    "    "
   ]
  },
  {
   "cell_type": "code",
   "execution_count": 5,
   "metadata": {},
   "outputs": [
    {
     "name": "stdout",
     "output_type": "stream",
     "text": [
      "kya hu bhai kyu ro raha h \n",
      "kya hu bhai kyu ro raha ??\n"
     ]
    }
   ],
   "source": [
    "#Question Ask user to input a string and check if the string ends with '?'\n",
    "wt = str(input(\"enter the strings and \"))\n",
    "print(wt)\n",
    "wy = str(input(\"enter the strings weather it end with ?\"))\n",
    "print(wy)"
   ]
  },
  {
   "cell_type": "code",
   "execution_count": 7,
   "metadata": {},
   "outputs": [
    {
     "name": "stdout",
     "output_type": "stream",
     "text": [
      "False\n",
      "True\n"
     ]
    }
   ],
   "source": [
    "print(wt.endswith(\"?\"))\n",
    "print(wy.endswith(\"?\"))"
   ]
  },
  {
   "cell_type": "code",
   "execution_count": 9,
   "metadata": {},
   "outputs": [
    {
     "name": "stdout",
     "output_type": "stream",
     "text": [
      "the apple is for eating and i am playing with an apple\n"
     ]
    }
   ],
   "source": [
    "#Question Ask user to input a string and print how many times e appeared in the string\n",
    "q = str(input(\"enter the strings by the users to count e \"))\n",
    "print(q)\n"
   ]
  },
  {
   "cell_type": "code",
   "execution_count": 11,
   "metadata": {},
   "outputs": [
    {
     "name": "stdout",
     "output_type": "stream",
     "text": [
      "4\n"
     ]
    }
   ],
   "source": [
    "print(q.count(\"e\"))"
   ]
  }
 ],
 "metadata": {
  "kernelspec": {
   "display_name": "base",
   "language": "python",
   "name": "python3"
  },
  "language_info": {
   "codemirror_mode": {
    "name": "ipython",
    "version": 3
   },
   "file_extension": ".py",
   "mimetype": "text/x-python",
   "name": "python",
   "nbconvert_exporter": "python",
   "pygments_lexer": "ipython3",
   "version": "3.11.5"
  }
 },
 "nbformat": 4,
 "nbformat_minor": 2
}
