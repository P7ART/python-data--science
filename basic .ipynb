{
 "cells": [
  {
   "cell_type": "code",
   "execution_count": 10,
   "metadata": {
    "vscode": {
     "languageId": "powershell"
    }
   },
   "outputs": [
    {
     "name": "stdout",
     "output_type": "stream",
     "text": [
      "kushagra lucknow\n",
      "kushagra\n",
      "kushagra\n",
      "lucknow\n",
      "kushagra,lucknow\n"
     ]
    }
   ],
   "source": [
    "name = \"kushagra\"\n",
    "city = \"lucknow\"\n",
    "print(name,city)\n",
    "print(name)\n",
    "print(name, city, sep=\"\\n\")\n",
    "print(name,city,sep=\",\")\n"
   ]
  }
 ],
 "metadata": {
  "kernelspec": {
   "display_name": "base",
   "language": "python",
   "name": "python3"
  },
  "language_info": {
   "codemirror_mode": {
    "name": "ipython",
    "version": 3
   },
   "file_extension": ".py",
   "mimetype": "text/x-python",
   "name": "python",
   "nbconvert_exporter": "python",
   "pygments_lexer": "ipython3",
   "version": "3.11.5"
  }
 },
 "nbformat": 4,
 "nbformat_minor": 2
}
