{
 "cells": [
  {
   "cell_type": "code",
   "execution_count": 10,
   "metadata": {
    "vscode": {
     "languageId": "powershell"
    }
   },
   "outputs": [
    {
     "name": "stdout",
     "output_type": "stream",
     "text": [
      "kushagra lucknow\n",
      "kushagra\n",
      "kushagra\n",
      "lucknow\n",
      "kushagra,lucknow\n"
     ]
    }
   ],
   "source": [
    "name = \"kushagra\"\n",
    "city = \"lucknow\"\n",
    "print(name,city)\n",
    "print(name)\n",
    "print(name, city, sep=\"\\n\")\n",
    "print(name,city,sep=\",\")\n"
   ]
  },
  {
   "cell_type": "code",
   "execution_count": 43,
   "metadata": {},
   "outputs": [
    {
     "name": "stdout",
     "output_type": "stream",
     "text": [
      "you purchased more $200\n",
      "you will get 10% discount\n",
      "total 360.0\n"
     ]
    }
   ],
   "source": [
    "qty = 2\n",
    "price = 200\n",
    "total = qty * price\n",
    "if total > 200:\n",
    "    print(\"you purchased more $200\")\n",
    "    print(\"you will get 10% discount\")\n",
    "    total = total*0.9\n",
    "    print('total',total)"
   ]
  },
  {
   "cell_type": "code",
   "execution_count": 47,
   "metadata": {},
   "outputs": [
    {
     "name": "stdout",
     "output_type": "stream",
     "text": [
      "the number is even 232\n"
     ]
    }
   ],
   "source": [
    "number = int(input(\"enter the number:\"))\n",
    "if number % 2 ==0:\n",
    "    print( f\"the number is even {number}\")\n",
    "else:\n",
    "    print( f\"the number odd {number}\")    \n"
   ]
  },
  {
   "cell_type": "code",
   "execution_count": 51,
   "metadata": {},
   "outputs": [
    {
     "ename": "NameError",
     "evalue": "name 'marks' is not defined",
     "output_type": "error",
     "traceback": [
      "\u001b[1;31m---------------------------------------------------------------------------\u001b[0m",
      "\u001b[1;31mNameError\u001b[0m                                 Traceback (most recent call last)",
      "Cell \u001b[1;32mIn[51], line 3\u001b[0m\n\u001b[0;32m      1\u001b[0m mark \u001b[38;5;241m=\u001b[39m \u001b[38;5;28mint\u001b[39m(\u001b[38;5;28minput\u001b[39m(\u001b[38;5;124m'\u001b[39m\u001b[38;5;124menter the total marks you got:\u001b[39m\u001b[38;5;124m'\u001b[39m))\n\u001b[0;32m      2\u001b[0m total \u001b[38;5;241m=\u001b[39m \u001b[38;5;241m600\u001b[39m\n\u001b[1;32m----> 3\u001b[0m pct \u001b[38;5;241m=\u001b[39m marks \u001b[38;5;241m/\u001b[39m total \u001b[38;5;241m*\u001b[39m \u001b[38;5;241m100\u001b[39m\n\u001b[0;32m      4\u001b[0m \u001b[38;5;28mprint\u001b[39m (\u001b[38;5;124mf\u001b[39m\u001b[38;5;124m'\u001b[39m\u001b[38;5;124mpercentage\u001b[39m\u001b[38;5;132;01m{\u001b[39;00mpct\u001b[38;5;132;01m}\u001b[39;00m\u001b[38;5;124m%\u001b[39m\u001b[38;5;124m'\u001b[39m)\n\u001b[0;32m      5\u001b[0m \u001b[38;5;28;01mif\u001b[39;00m pct \u001b[38;5;241m>\u001b[39m\u001b[38;5;241m=\u001b[39m \u001b[38;5;241m90\u001b[39m:\n",
      "\u001b[1;31mNameError\u001b[0m: name 'marks' is not defined"
     ]
    }
   ],
   "source": [
    "mark = int(input('enter the total marks you got:'))\n",
    "total = 600\n",
    "pct = marks / total * 100\n",
    "print (f'percentage{pct}%')\n",
    "if pct >= 90:\n",
    "    print(\"pass A+ 😊\")\n",
    "else:\n",
    "    print(\"fail🤣🤣\")\n",
    "        "
   ]
  },
  {
   "cell_type": "code",
   "execution_count": 54,
   "metadata": {},
   "outputs": [
    {
     "name": "stdout",
     "output_type": "stream",
     "text": [
      "what is the capital uttar pradesh: \n",
      "A.dehradun\n",
      "B.lucknow\n",
      "C. delhi\n",
      "D.dk\n",
      "kya likhe hu\n"
     ]
    }
   ],
   "source": [
    "print(\"what is the capital uttar pradesh: \")\n",
    "print(\"A.dehradun\")\n",
    "print(\"B.lucknow\")\n",
    "print(\"C. delhi\")\n",
    "print(\"D.dk\")\n",
    "ans = input(\"enter your enter:\")\n",
    "match ans:\n",
    "    case \"A\":\n",
    "        print(\"bsdk\")\n",
    "    case \"B\":\n",
    "        print(\"muskuraya aap lucknow mei h  \")\n",
    "    case \"C\":\n",
    "        print(\"chutiye\")\n",
    "    case \"D\":\n",
    "        print(\"gand maro\")\n",
    "    case _:\n",
    "        print (\"kya diye hu\")\n",
    "                \n",
    "        \n"
   ]
  },
  {
   "cell_type": "code",
   "execution_count": 1,
   "metadata": {},
   "outputs": [
    {
     "name": "stdout",
     "output_type": "stream",
     "text": [
      "hello welcome back\n"
     ]
    }
   ],
   "source": [
    "print(\"hello welcome back\")"
   ]
  },
  {
   "cell_type": "code",
   "execution_count": null,
   "metadata": {},
   "outputs": [],
   "source": []
  }
 ],
 "metadata": {
  "kernelspec": {
   "display_name": "base",
   "language": "python",
   "name": "python3"
  },
  "language_info": {
   "codemirror_mode": {
    "name": "ipython",
    "version": 3
   },
   "file_extension": ".py",
   "mimetype": "text/x-python",
   "name": "python",
   "nbconvert_exporter": "python",
   "pygments_lexer": "ipython3",
   "version": "3.11.5"
  }
 },
 "nbformat": 4,
 "nbformat_minor": 2
}
