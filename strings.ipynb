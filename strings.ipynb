{
 "cells": [
  {
   "cell_type": "code",
   "execution_count": 1,
   "metadata": {},
   "outputs": [],
   "source": [
    "a = 'apple'#single quotes\n",
    "b = \"applejuice\"#double quotes\n",
    "c ='''this is\n",
    "hello bhai''' # triple quotes\n"
   ]
  },
  {
   "cell_type": "code",
   "execution_count": 2,
   "metadata": {},
   "outputs": [
    {
     "name": "stdout",
     "output_type": "stream",
     "text": [
      "p\n",
      "p\n",
      "l\n"
     ]
    }
   ],
   "source": [
    "print(a[1])\n",
    "print(a[2])\n",
    "print(a[-2])"
   ]
  },
  {
   "cell_type": "markdown",
   "metadata": {},
   "source": [
    "slicing\n",
    "'str[start:stop:step]'"
   ]
  },
  {
   "cell_type": "code",
   "execution_count": 3,
   "metadata": {},
   "outputs": [
    {
     "name": "stdout",
     "output_type": "stream",
     "text": [
      "vijay\n",
      "chauhan\n",
      "vjyjicah\n",
      "vjyjicahn\n",
      "nahuahc iaj yajiv\n"
     ]
    }
   ],
   "source": [
    "name = \"vijay jai chauhan\"\n",
    "print(name[0:5])\n",
    "print(name[-7:18])\n",
    "print(name[:15:2])\n",
    "print(name[::2])\n",
    "print(name[::-1])"
   ]
  },
  {
   "cell_type": "code",
   "execution_count": 4,
   "metadata": {},
   "outputs": [
    {
     "name": "stdout",
     "output_type": "stream",
     "text": [
      "nahua\n"
     ]
    }
   ],
   "source": [
    "print(name[:][::-1][:5])"
   ]
  },
  {
   "cell_type": "code",
   "execution_count": 36,
   "metadata": {},
   "outputs": [
    {
     "name": "stdout",
     "output_type": "stream",
     "text": [
      "kushagra\n",
      "singh\n"
     ]
    }
   ],
   "source": [
    "fname = 'kushagra'\n",
    "lname = 'singh'\n",
    "word = fname+'\\n'+lname\n",
    "print(word)"
   ]
  },
  {
   "cell_type": "code",
   "execution_count": 56,
   "metadata": {},
   "outputs": [
    {
     "data": {
      "text/plain": [
       "'kushagra singh'"
      ]
     },
     "execution_count": 56,
     "metadata": {},
     "output_type": "execute_result"
    }
   ],
   "source": [
    "fname = 'kushagra'\n",
    "lname = 'singh'\n",
    "fname+' '+lname"
   ]
  },
  {
   "cell_type": "code",
   "execution_count": 57,
   "metadata": {},
   "outputs": [
    {
     "data": {
      "text/plain": [
       "' hello  hello  hello  hello  hello  hello  hello  hello  hello  hello '"
      ]
     },
     "execution_count": 57,
     "metadata": {},
     "output_type": "execute_result"
    }
   ],
   "source": [
    "' hello '*10"
   ]
  },
  {
   "cell_type": "markdown",
   "metadata": {},
   "source": [
    "string methods"
   ]
  },
  {
   "cell_type": "code",
   "execution_count": 58,
   "metadata": {},
   "outputs": [
    {
     "data": {
      "text/plain": [
       "'Apple'"
      ]
     },
     "execution_count": 58,
     "metadata": {},
     "output_type": "execute_result"
    }
   ],
   "source": [
    "a.capitalize()"
   ]
  },
  {
   "cell_type": "markdown",
   "metadata": {},
   "source": [
    "find and replace"
   ]
  },
  {
   "cell_type": "code",
   "execution_count": 59,
   "metadata": {},
   "outputs": [
    {
     "name": "stdout",
     "output_type": "stream",
     "text": [
      "4\n",
      "-1\n",
      "37\n",
      "the whole  idea of the project is to done a program that can generate random numbers\n",
      "the whole  idea of the project is to create a program that bhag generate random numbers\n",
      "the whole  idea of the assigment is to done a program that can generate random numbers\n"
     ]
    }
   ],
   "source": [
    "sentence = 'the whole  idea of the project is to create a program that can generate random numbers'\n",
    "print(sentence.find('whole'))\n",
    "print(sentence.find('bdsf'))\n",
    "print(sentence.find('cr'))\n",
    "\n",
    "print(sentence.replace('create'  , 'done'))\n",
    "print(sentence.replace('can'  , 'bhag'))\n",
    "sentence2 = sentence.replace('create'  , 'done').replace('project', 'assigment')\n",
    "print(sentence2)\n",
    "\n",
    "\n",
    "\n"
   ]
  },
  {
   "cell_type": "code",
   "execution_count": 60,
   "metadata": {},
   "outputs": [
    {
     "data": {
      "text/plain": [
       "'thq wholq  idqa of thq projqct is to crqatq a program that can gqnqratq random numbqrs'"
      ]
     },
     "execution_count": 60,
     "metadata": {},
     "output_type": "execute_result"
    }
   ],
   "source": [
    "sentence.replace('e','q')"
   ]
  },
  {
   "cell_type": "markdown",
   "metadata": {},
   "source": [
    "split and join  "
   ]
  },
  {
   "cell_type": "code",
   "execution_count": 61,
   "metadata": {},
   "outputs": [
    {
     "data": {
      "text/plain": [
       "['the',\n",
       " 'whole',\n",
       " 'idea',\n",
       " 'of',\n",
       " 'the',\n",
       " 'project',\n",
       " 'is',\n",
       " 'to',\n",
       " 'create',\n",
       " 'a',\n",
       " 'program',\n",
       " 'that',\n",
       " 'can',\n",
       " 'generate',\n",
       " 'random',\n",
       " 'numbers']"
      ]
     },
     "execution_count": 61,
     "metadata": {},
     "output_type": "execute_result"
    }
   ],
   "source": [
    "sentence.split()"
   ]
  },
  {
   "cell_type": "code",
   "execution_count": 62,
   "metadata": {},
   "outputs": [
    {
     "data": {
      "text/plain": [
       "['the king is bad']"
      ]
     },
     "execution_count": 62,
     "metadata": {},
     "output_type": "execute_result"
    }
   ],
   "source": [
    "s3= 'the king is bad'\n",
    "s3.split(',')"
   ]
  },
  {
   "cell_type": "code",
   "execution_count": 63,
   "metadata": {},
   "outputs": [
    {
     "name": "stdout",
     "output_type": "stream",
     "text": [
      "['twinkkle', 'uyusfgbvrfr', 'rgrervg', 'vwregreghd', 'rfgffdgdf', 'ergrdg', 'fgsgdrfg', 'ergdrghdtg', 'wetterg']\n",
      "['', 'twinkkle  uyusfgbvrfr rgrervg', 'vwregreghd rfgffdgdf  ergrdg', 'fgsgdrfg  ergdrghdtg wetterg']\n",
      "['\\ntwinkkle  uyusfgbvrfr rgrervg\\nvwregreghd rfgffdgdf  ergrdg\\nfgsgdrfg  ergdrghdtg wetterg']\n"
     ]
    }
   ],
   "source": [
    "poem ='''\n",
    "twinkkle  uyusfgbvrfr rgrervg\n",
    "vwregreghd rfgffdgdf  ergrdg\n",
    "fgsgdrfg  ergdrghdtg wetterg'''\n",
    "\n",
    "print(poem.split())\n",
    "print(poem.splitlines())\n",
    "print(poem.split(','))"
   ]
  },
  {
   "cell_type": "code",
   "execution_count": 64,
   "metadata": {},
   "outputs": [
    {
     "name": "stdout",
     "output_type": "stream",
     "text": [
      "C: we help can\n",
      "C:/we/help/can\n",
      "C:,we,help,can\n",
      "C:😂we😂help😂can\n",
      "C:\n",
      "we\n",
      "help\n",
      "can\n"
     ]
    }
   ],
   "source": [
    "path =['C:','we','help','can']\n",
    "print(\" \".join(path))\n",
    "print(\"/\".join(path))\n",
    "print(\",\".join(path))\n",
    "print(\"😂\".join(path))\n",
    "print(\"\\n\".join(path))"
   ]
  },
  {
   "cell_type": "code",
   "execution_count": 65,
   "metadata": {},
   "outputs": [
    {
     "name": "stdout",
     "output_type": "stream",
     "text": [
      "CAN I HELP YOU??\n"
     ]
    }
   ],
   "source": [
    "#to convert all word in upper case\n",
    "my = \"can i help you??\"\n",
    "print(my.upper())"
   ]
  },
  {
   "cell_type": "code",
   "execution_count": 3,
   "metadata": {},
   "outputs": [
    {
     "name": "stdout",
     "output_type": "stream",
     "text": [
      "the entered user is  a number\n"
     ]
    }
   ],
   "source": [
    "# to find wheather user in input is number or not\n",
    "ty = (input(\"Enter a character: \"))\n",
    "if ty.isdigit():\n",
    "    print(\"the entered user is  a number\")\n",
    "else: \n",
    "    print(\"the enter user input is not number\")   "
   ]
  }
 ],
 "metadata": {
  "kernelspec": {
   "display_name": "base",
   "language": "python",
   "name": "python3"
  },
  "language_info": {
   "codemirror_mode": {
    "name": "ipython",
    "version": 3
   },
   "file_extension": ".py",
   "mimetype": "text/x-python",
   "name": "python",
   "nbconvert_exporter": "python",
   "pygments_lexer": "ipython3",
   "version": "3.11.5"
  }
 },
 "nbformat": 4,
 "nbformat_minor": 2
}
