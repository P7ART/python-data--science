{
 "cells": [
  {
   "cell_type": "markdown",
   "metadata": {},
   "source": [
    "count startwiths and endwiths\n"
   ]
  },
  {
   "cell_type": "code",
   "execution_count": 1,
   "metadata": {},
   "outputs": [
    {
     "data": {
      "text/plain": [
       "2"
      ]
     },
     "execution_count": 1,
     "metadata": {},
     "output_type": "execute_result"
    }
   ],
   "source": [
    "story = 'the king goes to the jungle for an apple in the world in universe'\n",
    "story.count(\"a\")"
   ]
  },
  {
   "cell_type": "code",
   "execution_count": 28,
   "metadata": {},
   "outputs": [
    {
     "name": "stdout",
     "output_type": "stream",
     "text": [
      "['Create your own gang', 'GangData.xml', 'Melee start', 'Melee Unarmed Fix', 'ModOptions.xml', 'readme.txt', 'TurfZoneData.xml']\n"
     ]
    }
   ],
   "source": [
    "import os\n",
    "\n",
    "content = os.listdir('C:/Users/ASUS/All Gangs for Gang and Turf Mod v2.6')\n",
    "print(content)\n"
   ]
  },
  {
   "cell_type": "code",
   "execution_count": 36,
   "metadata": {},
   "outputs": [
    {
     "name": "stdout",
     "output_type": "stream",
     "text": [
      "GangData.xml\n",
      "ModOptions.xml\n",
      "TurfZoneData.xml\n"
     ]
    }
   ],
   "source": [
    "for item in content: \n",
    "    if item.endswith('.xml'):\n",
    "       print(item)"
   ]
  },
  {
   "cell_type": "code",
   "execution_count": 37,
   "metadata": {},
   "outputs": [
    {
     "name": "stdout",
     "output_type": "stream",
     "text": [
      "False\n",
      "True\n"
     ]
    }
   ],
   "source": [
    "words = \"excellent\"\n",
    "print(words.startswith('ev'))\n",
    "print(words.startswith('ex'))"
   ]
  },
  {
   "cell_type": "markdown",
   "metadata": {},
   "source": [
    "list\n",
    "\n"
   ]
  },
  {
   "cell_type": "code",
   "execution_count": 3,
   "metadata": {},
   "outputs": [],
   "source": [
    "name = ['kushahra', 'pawan', 'jatin','raunak']\n",
    "prime_number = [2,3,5,7,9,11,13,17,19,23,29]\n",
    "mix_list=[1,'kushagra',2,'jatin',3,'ranaku',4,'rishab']\n",
    "nest_list=[[1,2,3],[4,5,6],[7,8,9]]"
   ]
  },
  {
   "cell_type": "code",
   "execution_count": 4,
   "metadata": {},
   "outputs": [
    {
     "name": "stdout",
     "output_type": "stream",
     "text": [
      "4\n",
      "11\n",
      "8\n",
      "3\n"
     ]
    }
   ],
   "source": [
    "print(len(name))\n",
    "print(len(prime_number))\n",
    "print(len(mix_list))\n",
    "print(len(nest_list))"
   ]
  },
  {
   "cell_type": "markdown",
   "metadata": {},
   "source": [
    "traversal"
   ]
  },
  {
   "cell_type": "code",
   "execution_count": 5,
   "metadata": {},
   "outputs": [
    {
     "name": "stdout",
     "output_type": "stream",
     "text": [
      "kushahra\n",
      "pawan\n",
      "jatin\n",
      "raunak\n"
     ]
    }
   ],
   "source": [
    "for i in name:\n",
    "    print(i)"
   ]
  },
  {
   "cell_type": "code",
   "execution_count": 6,
   "metadata": {},
   "outputs": [
    {
     "name": "stdout",
     "output_type": "stream",
     "text": [
      "['kushahra', 'pawan', 'jatin', 'raunak']\n"
     ]
    }
   ],
   "source": [
    "print(name)"
   ]
  },
  {
   "cell_type": "code",
   "execution_count": 7,
   "metadata": {},
   "outputs": [
    {
     "name": "stdout",
     "output_type": "stream",
     "text": [
      "first elements 5\n",
      "second elements 2\n",
      "fourth element 9\n"
     ]
    }
   ],
   "source": [
    "print('first elements',prime_number[2])\n",
    "print('second elements',prime_number[0])\n",
    "print('fourth element',prime_number[-7])\n",
    "\n"
   ]
  },
  {
   "cell_type": "code",
   "execution_count": 10,
   "metadata": {},
   "outputs": [
    {
     "name": "stdout",
     "output_type": "stream",
     "text": [
      "['kushahra', 'pawan', 'nihal', 'raunak']\n"
     ]
    }
   ],
   "source": [
    "name[-2]= 'nihal'\n",
    "print(name)"
   ]
  },
  {
   "cell_type": "markdown",
   "metadata": {},
   "source": [
    "slicing"
   ]
  },
  {
   "cell_type": "code",
   "execution_count": 12,
   "metadata": {},
   "outputs": [
    {
     "name": "stdout",
     "output_type": "stream",
     "text": [
      "[2, 3, 5, 7, 9]\n",
      "[13, 17, 19, 23, 29]\n",
      "[29, 23, 19, 17, 13, 11, 9, 7, 5, 3, 2]\n",
      "[2, 5, 9, 13, 19, 29]\n",
      "[2, 7]\n"
     ]
    }
   ],
   "source": [
    "print(prime_number[:5])\n",
    "print(prime_number[-5:])\n",
    "print(prime_number[::-1])\n",
    "print(prime_number[::2])\n",
    "print(prime_number[:5:3])"
   ]
  }
 ],
 "metadata": {
  "kernelspec": {
   "display_name": "base",
   "language": "python",
   "name": "python3"
  },
  "language_info": {
   "codemirror_mode": {
    "name": "ipython",
    "version": 3
   },
   "file_extension": ".py",
   "mimetype": "text/x-python",
   "name": "python",
   "nbconvert_exporter": "python",
   "pygments_lexer": "ipython3",
   "version": "3.11.5"
  }
 },
 "nbformat": 4,
 "nbformat_minor": 2
}
