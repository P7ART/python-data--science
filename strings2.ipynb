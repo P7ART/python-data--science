{
 "cells": [
  {
   "cell_type": "markdown",
   "metadata": {},
   "source": [
    "count startwiths and endwiths\n"
   ]
  },
  {
   "cell_type": "code",
   "execution_count": 1,
   "metadata": {},
   "outputs": [
    {
     "data": {
      "text/plain": [
       "2"
      ]
     },
     "execution_count": 1,
     "metadata": {},
     "output_type": "execute_result"
    }
   ],
   "source": [
    "story = 'the king goes to the jungle for an apple in the world in universe'\n",
    "story.count(\"a\")"
   ]
  },
  {
   "cell_type": "code",
   "execution_count": 13,
   "metadata": {},
   "outputs": [
    {
     "name": "stdout",
     "output_type": "stream",
     "text": [
      "['chat.py', 'pov.py']\n"
     ]
    }
   ],
   "source": [
    "import os\n",
    "\n",
    "content = os.listdir('C:/Users/ASUS/d7gr')\n",
    "print(content)\n"
   ]
  },
  {
   "cell_type": "code",
   "execution_count": 25,
   "metadata": {},
   "outputs": [
    {
     "name": "stdout",
     "output_type": "stream",
     "text": [
      "chat.py\n"
     ]
    }
   ],
   "source": [
    "for item in content: \n",
    "    if item.startswith('c'):\n",
    "       print(item)"
   ]
  },
  {
   "cell_type": "code",
   "execution_count": 27,
   "metadata": {},
   "outputs": [
    {
     "name": "stdout",
     "output_type": "stream",
     "text": [
      "False\n",
      "True\n"
     ]
    }
   ],
   "source": [
    "words = \"excellent\"\n",
    "print(words.startswith('ev'))\n",
    "print(words.startswith('ex'))"
   ]
  }
 ],
 "metadata": {
  "kernelspec": {
   "display_name": "base",
   "language": "python",
   "name": "python3"
  },
  "language_info": {
   "codemirror_mode": {
    "name": "ipython",
    "version": 3
   },
   "file_extension": ".py",
   "mimetype": "text/x-python",
   "name": "python",
   "nbconvert_exporter": "python",
   "pygments_lexer": "ipython3",
   "version": "3.11.5"
  }
 },
 "nbformat": 4,
 "nbformat_minor": 2
}
