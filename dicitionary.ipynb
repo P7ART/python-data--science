{
 "cells": [
  {
   "cell_type": "code",
   "execution_count": 5,
   "metadata": {},
   "outputs": [],
   "source": [
    "data = {\n",
    "    'title': 'the king thrown out',\n",
    "    'year': 2004,\n",
    "    'author' : 'vijay das',\n",
    "    'price' : 4535,\n",
    "    'rating': 9.5,\n",
    "    'votes' : 23456,\n",
    "}"
   ]
  },
  {
   "cell_type": "code",
   "execution_count": 6,
   "metadata": {},
   "outputs": [
    {
     "name": "stdout",
     "output_type": "stream",
     "text": [
      "the king thrown out\n",
      "vijay das\n"
     ]
    }
   ],
   "source": [
    "print(data['title'])\n",
    "print(data['author'])\n"
   ]
  },
  {
   "cell_type": "code",
   "execution_count": 7,
   "metadata": {},
   "outputs": [
    {
     "name": "stdout",
     "output_type": "stream",
     "text": [
      "4535\n",
      "None\n"
     ]
    }
   ],
   "source": [
    "# error free way to fetch data when keyword is not  present in the response\n",
    "print(data.get('price'))\n",
    "print(data.get('pages'))\n"
   ]
  },
  {
   "cell_type": "code",
   "execution_count": 15,
   "metadata": {},
   "outputs": [
    {
     "data": {
      "text/plain": [
       "dict_values(['the king thrown out', 2004, 'vijay das', 4535, 9.5, 23456])"
      ]
     },
     "execution_count": 15,
     "metadata": {},
     "output_type": "execute_result"
    }
   ],
   "source": [
    "data.values()"
   ]
  },
  {
   "cell_type": "code",
   "execution_count": 16,
   "metadata": {},
   "outputs": [
    {
     "name": "stdout",
     "output_type": "stream",
     "text": [
      "{'': ''}\n"
     ]
    }
   ],
   "source": [
    "movie = {}\n",
    "for i in range (6):\n",
    "    key = input(\"enter the key:\")\n",
    "    value = input(\"enter the value :\")\n",
    "    movie[key] = value \n",
    "print(movie)"
   ]
  }
 ],
 "metadata": {
  "kernelspec": {
   "display_name": "base",
   "language": "python",
   "name": "python3"
  },
  "language_info": {
   "codemirror_mode": {
    "name": "ipython",
    "version": 3
   },
   "file_extension": ".py",
   "mimetype": "text/x-python",
   "name": "python",
   "nbconvert_exporter": "python",
   "pygments_lexer": "ipython3",
   "version": "3.11.5"
  }
 },
 "nbformat": 4,
 "nbformat_minor": 2
}
