{
 "cells": [
  {
   "cell_type": "code",
   "execution_count": 1,
   "metadata": {},
   "outputs": [],
   "source": [
    "def hyp(p,b):\n",
    "    return(p**2 + b**2) **0.5"
   ]
  },
  {
   "cell_type": "code",
   "execution_count": 3,
   "metadata": {},
   "outputs": [
    {
     "name": "stdout",
     "output_type": "stream",
     "text": [
      "5.0\n",
      "6.708203932499369\n",
      "7.615773105863909\n",
      "6.4031242374328485\n",
      "8.94427190999916\n",
      "9.848857801796104\n",
      "4.47213595499958\n"
     ]
    }
   ],
   "source": [
    "print(hyp(3,4))\n",
    "print(hyp(3,6))\n",
    "print(hyp(3,7))\n",
    "print(hyp(5,4))\n",
    "print(hyp(8,4))\n",
    "print(hyp(9,4))\n",
    "print(hyp(2,4))\n"
   ]
  }
 ],
 "metadata": {
  "kernelspec": {
   "display_name": "base",
   "language": "python",
   "name": "python3"
  },
  "language_info": {
   "codemirror_mode": {
    "name": "ipython",
    "version": 3
   },
   "file_extension": ".py",
   "mimetype": "text/x-python",
   "name": "python",
   "nbconvert_exporter": "python",
   "pygments_lexer": "ipython3",
   "version": "3.11.5"
  }
 },
 "nbformat": 4,
 "nbformat_minor": 2
}
