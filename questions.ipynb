{
 "cells": [
  {
   "cell_type": "markdown",
   "metadata": {},
   "source": [
    "strings questions\n"
   ]
  },
  {
   "cell_type": "code",
   "execution_count": 2,
   "metadata": {},
   "outputs": [
    {
     "name": "stdout",
     "output_type": "stream",
     "text": [
      "the king goes to the jungle for an apple for an queen\n"
     ]
    }
   ],
   "source": [
    "b = 'the king goes to the jungle for an apple for an queen'\n",
    "print(b)"
   ]
  },
  {
   "cell_type": "code",
   "execution_count": 4,
   "metadata": {},
   "outputs": [
    {
     "name": "stdout",
     "output_type": "stream",
     "text": [
      "53\n"
     ]
    }
   ],
   "source": [
    "#question 2\n",
    "q = str(input(\"enter the string and find its lenght\"))\n",
    "print(len(b))"
   ]
  },
  {
   "cell_type": "code",
   "execution_count": 15,
   "metadata": {},
   "outputs": [
    {
     "name": "stdout",
     "output_type": "stream",
     "text": [
      "great\n"
     ]
    }
   ],
   "source": [
    "#question 3 Print the last word of the string Python is great using slices?\n",
    "name = 'python is great'\n",
    "print(name[-5:15]) #slicing\n",
    "\n",
    "\n"
   ]
  },
  {
   "cell_type": "code",
   "execution_count": 22,
   "metadata": {},
   "outputs": [
    {
     "name": "stdout",
     "output_type": "stream",
     "text": [
      "python \n",
      "is \n",
      "everywhere\n"
     ]
    }
   ],
   "source": [
    "#question 4Print the each word in different line of string python is everywhere.\n",
    "word2 = \"python \\nis \\neverywhere\"\n",
    "print(word2)"
   ]
  },
  {
   "cell_type": "code",
   "execution_count": 24,
   "metadata": {},
   "outputs": [
    {
     "name": "stdout",
     "output_type": "stream",
     "text": [
      "dlrow olleh\n"
     ]
    }
   ],
   "source": [
    "#Question5 Print the string Hello World! in reverse.\n",
    "sentence2 = \"hello world\"\n",
    "print(sentence2[::-1])"
   ]
  },
  {
   "cell_type": "code",
   "execution_count": 2,
   "metadata": {},
   "outputs": [
    {
     "name": "stdout",
     "output_type": "stream",
     "text": [
      "HOW ARE YOU??\n"
     ]
    }
   ],
   "source": [
    "#Question 6 Convert the string How are you? in uppercase.\n",
    "word3 = \"how are you??\"\n",
    "print(word3.upper())"
   ]
  },
  {
   "cell_type": "code",
   "execution_count": 4,
   "metadata": {},
   "outputs": [
    {
     "name": "stdout",
     "output_type": "stream",
     "text": [
      "how is its going in tne school??\n"
     ]
    }
   ],
   "source": [
    "#Question 7 Convert the string How Is It Going? in lowercase.\n",
    "word4 = \"HOW IS ITS GOING IN TNE SCHOOL??\"\n",
    "print(word4.lower())"
   ]
  },
  {
   "cell_type": "code",
   "execution_count": 9,
   "metadata": {},
   "outputs": [
    {
     "name": "stdout",
     "output_type": "stream",
     "text": [
      "Python is easy to learn\n",
      "Python😂is😂easy😂to😂learn\n"
     ]
    }
   ],
   "source": [
    "#Question 8 Join the following list by spaces( ) and print the result\n",
    "word5 = ['Python', 'is', 'easy', 'to', 'learn']\n",
    "print(\" \".join(word5))\n",
    "print(\"😂\".join(word5))"
   ]
  },
  {
   "cell_type": "code",
   "execution_count": 10,
   "metadata": {},
   "outputs": [
    {
     "name": "stdout",
     "output_type": "stream",
     "text": [
      "hello world welcome to this world\n",
      "i will gave you a apple to eat \n",
      "about 360 plate of meal which will remove\n",
      "your hungry stomach \n",
      "and you will get a apple and mango juice\n"
     ]
    }
   ],
   "source": [
    "#Question Print a multiline string using a single print\n",
    "word6 = '''hello world welcome to this world\n",
    "i will gave you a apple to eat \n",
    "about 360 plate of meal which will remove\n",
    "your hungry stomach \n",
    "and you will get a apple and mango juice'''\n",
    "print(word6)"
   ]
  },
  {
   "cell_type": "code",
   "execution_count": 13,
   "metadata": {},
   "outputs": [
    {
     "name": "stdout",
     "output_type": "stream",
     "text": [
      "print this string to move to newline \n",
      " '\n",
      "'  is used\n"
     ]
    }
   ],
   "source": [
    "#Question Print this string to move to newline '\\n' is used. (results should look exactly like the provided string)\n",
    "print(\"print this string to move to newline \\n '\\n'  is used\")"
   ]
  },
  {
   "cell_type": "code",
   "execution_count": 14,
   "metadata": {},
   "outputs": [
    {
     "name": "stdout",
     "output_type": "stream",
     "text": [
      " the variable is  15\n"
     ]
    }
   ],
   "source": [
    "# Question Print a variable with some text using a single print function, output should look like following\n",
    "num = 15\n",
    "print(\" the variable is \", num )"
   ]
  },
  {
   "cell_type": "code",
   "execution_count": 15,
   "metadata": {},
   "outputs": [
    {
     "name": "stdout",
     "output_type": "stream",
     "text": [
      "python is great.\n"
     ]
    }
   ],
   "source": [
    "# question  concatenate the following strings and print the result\n",
    "s1 = 'python '\n",
    "s2 = 'is '\n",
    "s3 = 'great.'\n",
    "print(s1 + s2 + s3)"
   ]
  },
  {
   "cell_type": "code",
   "execution_count": 1,
   "metadata": {},
   "outputs": [
    {
     "data": {
      "text/plain": [
       "' #  #  #  #  #  #  #  #  #  #  #  #  #  #  #  #  #  #  #  # '"
      ]
     },
     "execution_count": 1,
     "metadata": {},
     "output_type": "execute_result"
    }
   ],
   "source": [
    "# Question Print # 20 times without using a loop\n",
    "' # '*20"
   ]
  },
  {
   "cell_type": "code",
   "execution_count": 4,
   "metadata": {},
   "outputs": [
    {
     "data": {
      "text/plain": [
       "' $  $  $  $  $  $  $  $  $  $  $  $  $  $  $  $  $  $  $  $  $  $  $  $  $  $  $  $  $  $  $  $  $  $  $  $  $  $  $  $ '"
      ]
     },
     "execution_count": 4,
     "metadata": {},
     "output_type": "execute_result"
    }
   ],
   "source": [
    "' $ '* 40"
   ]
  }
 ],
 "metadata": {
  "kernelspec": {
   "display_name": "base",
   "language": "python",
   "name": "python3"
  },
  "language_info": {
   "codemirror_mode": {
    "name": "ipython",
    "version": 3
   },
   "file_extension": ".py",
   "mimetype": "text/x-python",
   "name": "python",
   "nbconvert_exporter": "python",
   "pygments_lexer": "ipython3",
   "version": "3.11.5"
  }
 },
 "nbformat": 4,
 "nbformat_minor": 2
}
